{
 "cells": [
  {
   "cell_type": "markdown",
   "metadata": {},
   "source": [
    "# Tasks Notebook\n",
    "\n",
    "Michael Casey\n",
    "\n",
    "***\n",
    "\n",
    "This notebook details all of the tasks completed throughout the semeseter"
   ]
  },
  {
   "cell_type": "markdown",
   "metadata": {},
   "source": [
    "## Topic 1 Assessment Tasks\n",
    "\n",
    "The following section deals with the tasks detailed in the Topic 1 assessment task files"
   ]
  },
  {
   "cell_type": "markdown",
   "metadata": {},
   "source": [
    "### Methodology/Notes\n",
    "\n",
    "Initally I want to validate that the Collatz Conjecture is true for  a single value."
   ]
  },
  {
   "cell_type": "markdown",
   "metadata": {},
   "source": [
    "### Task 1\n"
   ]
  },
  {
   "cell_type": "code",
   "execution_count": null,
   "metadata": {},
   "outputs": [],
   "source": [
    "# Function to check if the value x is even or odd and then apply the collatz conjecture to the value x\n",
    " \n",
    "def f(x):\n",
    "    if x % 2 == 0:\n",
    "        return x / 2\n",
    "    else:\n",
    "        return (3 * x) + 1\n"
   ]
  },
  {
   "cell_type": "code",
   "execution_count": null,
   "metadata": {},
   "outputs": [],
   "source": [
    "#Defining a function to test the Oollatz Conjecture\n",
    "def collatz(x):\n",
    "    #inital step is to print what value we are testing the Collatz COnjecture on\n",
    "    print(\"Testing collatz with intial value {}\" .format(x))\n",
    "    # While x is not equal to zero, we apply the function f(x) to the value x\n",
    "    while x != 1:\n",
    "    # Assign the new value of x (result of function f(x))\n",
    "        x = f(x)\n",
    "    #print the new value of x\n",
    "        print(x)\n"
   ]
  },
  {
   "cell_type": "code",
   "execution_count": null,
   "metadata": {},
   "outputs": [],
   "source": [
    "# We want to test the Collatz Conjecture for all values between 1 and 10,000. In order to achieve this we create a range with the numbers from 1 to 100000. \n",
    "#This approach takes approx 2 m 22.5s on my computer to run without threading\n",
    "\n",
    "for val in range (1, 10000):\n",
    "    collatz(val)\n",
    "\n"
   ]
  },
  {
   "cell_type": "markdown",
   "metadata": {},
   "source": [
    "## Task 2\n"
   ]
  },
  {
   "cell_type": "markdown",
   "metadata": {},
   "source": [
    "### References\n",
    "\n"
   ]
  },
  {
   "cell_type": "markdown",
   "metadata": {},
   "source": [
    "Dedov, F 2020, The Python Bible Volume 1: Introduction and Basics, Independently Published, United Kingdom."
   ]
  },
  {
   "cell_type": "markdown",
   "metadata": {},
   "source": [
    "***\n",
    "\n",
    "# End"
   ]
  }
 ],
 "metadata": {
  "kernelspec": {
   "display_name": "base",
   "language": "python",
   "name": "python3"
  },
  "language_info": {
   "codemirror_mode": {
    "name": "ipython",
    "version": 3
   },
   "file_extension": ".py",
   "mimetype": "text/x-python",
   "name": "python",
   "nbconvert_exporter": "python",
   "pygments_lexer": "ipython3",
   "version": "3.9.7"
  },
  "orig_nbformat": 4
 },
 "nbformat": 4,
 "nbformat_minor": 2
}
